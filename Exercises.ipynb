{
 "cells": [
  {
   "cell_type": "markdown",
   "metadata": {},
   "source": [
    "# Exersises"
   ]
  },
  {
   "cell_type": "markdown",
   "metadata": {},
   "source": []
  },
  {
   "cell_type": "markdown",
   "metadata": {},
   "source": []
  },
  {
   "cell_type": "markdown",
   "metadata": {},
   "source": [
    "### Chapter 3\n",
    "\n",
    "**Ex 3.1**\n",
    "I need to think about this.\n",
    "\n",
    "**Ex 3.2**\n",
    "If we can only perform one or few, interactions with the environment this type of algorithm would not work well.  For example in planning the moon landing.  However, if simulations could be performed it would work very well.\n",
    "\n",
    "**Ex 3.3**\n",
    "This is a really good question.  Often the location of our actions are well defined, in that we want to control some system in order to perform some output.  In this case, the input controls are what we learn.  \n",
    "In the driving example, the location of the control really depends on what is being provided as a service.  For example, if the function of the algorithm is to improve control, then control at the torque location is optimal.  If getting from spot A to spot B is the goal, then it's steering the car.  In some cases, even the whole decision of where to go could be provided as a service, for example in the case of logistics.\n",
    "\n",
    "**Ex 3.4**\n",
    "As pushing the failure back further would discount it more, the expected reward would be -$\\gamma^t$, where t is the expected time before failure.\n",
    "\n",
    "**Ex 3.5**\n",
    "Are we discounting the reward?  If so this should work.  If not, then we are assigning the same reward to finish  the maze quickly, as to solving it very slowly.  This will not promote the kind of behaviour required for effective maze solving."
   ]
  }
 ],
 "metadata": {
  "kernelspec": {
   "display_name": "Python 3",
   "language": "python",
   "name": "python3"
  },
  "language_info": {
   "codemirror_mode": {
    "name": "ipython",
    "version": 3
   },
   "file_extension": ".py",
   "mimetype": "text/x-python",
   "name": "python",
   "nbconvert_exporter": "python",
   "pygments_lexer": "ipython3",
   "version": "3.6.1"
  }
 },
 "nbformat": 4,
 "nbformat_minor": 2
}
