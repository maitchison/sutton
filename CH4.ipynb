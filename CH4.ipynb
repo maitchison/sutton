{
 "cells": [
  {
   "cell_type": "markdown",
   "metadata": {},
   "source": [
    "# Sutton \n",
    " \n",
    "## Chapter 4 - Dynamic Programming\n"
   ]
  },
  {
   "cell_type": "code",
   "execution_count": 1,
   "metadata": {
    "collapsed": true
   },
   "outputs": [],
   "source": [
    "import random\n",
    "import matplotlib.pyplot as plt\n",
    "import numpy as np\n",
    "import numpy.random \n",
    "import math"
   ]
  },
  {
   "cell_type": "markdown",
   "metadata": {},
   "source": [
    "## Jack's Car Rental\n",
    "### By random sampling"
   ]
  },
  {
   "cell_type": "code",
   "execution_count": 2,
   "metadata": {
    "collapsed": true
   },
   "outputs": [],
   "source": [
    "#Jacks Car Rental using random sampling\n",
    "\n",
    "def draw_poisson(lamb):\n",
    "    \"\"\" Samples from poission distribution\"\"\"\n",
    "    return np.random.poisson(lamb)\n",
    "\n",
    "def evaluate(NUM_TRIALS = 1000):\n",
    "    \"\"\" Evalulate the current policy using via simulation. \"\"\"\n",
    "    \n",
    "    # the goal here is to evalulate the EV for each given state given the rules of the game.\n",
    "    \n",
    "    # this is the number of trials to perform.  Higher numbers will give better results, but will\n",
    "    # be slower.\n",
    "    #NUM_TRIALS = 1000\n",
    "    \n",
    "    # number of days to simulate, because we are using discount rate 50 days will be sufficent.\n",
    "    NUM_DAYS = 10\n",
    "    \n",
    "    for x in range(21):\n",
    "        for y in range(21):     \n",
    "            value = 0.0\n",
    "            for i in range(NUM_TRIALS):\n",
    "                # reset the state\n",
    "                cars_a = x\n",
    "                cars_b = y\n",
    "                \n",
    "                for day in range(NUM_DAYS):\n",
    "                    \n",
    "                    discount = 0.9 ** day\n",
    "                    \n",
    "                    # cars get rented\n",
    "                    rent_a = min(draw_poisson(request_lambda[0]), cars_a)\n",
    "                    rent_b = min(draw_poisson(request_lambda[1]), cars_b)\n",
    "                    value += (rent_a * 10 + rent_b * 10) * discount\n",
    "                    cars_a -= rent_a\n",
    "                    cars_b -= rent_b\n",
    "                    \n",
    "                    # cars get returned\n",
    "                    cars_a += draw_poisson(returns_lambda[0])\n",
    "                    cars_b += draw_poisson(returns_lambda[1])\n",
    "                    \n",
    "                    cars_a = min(cars_a, 20)\n",
    "                    cars_b = min(cars_b, 20)\n",
    "                    \n",
    "                    # cars get transfered\n",
    "                    transfer = pi[cars_a, cars_b]\n",
    "                    cars_a -= transfer\n",
    "                    cars_b += transfer\n",
    "                    \n",
    "                    value -= (2 * transfer) * discount\n",
    "                    \n",
    "            V[x, y] = value / NUM_TRIALS\n",
    "                    \n",
    "def improve():\n",
    "    \"\"\" Step 3. Policy Improvement. \"\"\"\n",
    "    # 3. Policy Improvement\n",
    "    policy_stable = True\n",
    "    for x in range(20+1):\n",
    "        for y in range(20+1):\n",
    "            b = pi[x, y]\n",
    "            # pick the best action...\n",
    "            best_a = 0\n",
    "            best = -9999\n",
    "            for a in range(-5, 5+1):\n",
    "                _x = x-a\n",
    "                _y = y+a\n",
    "                if _x < 0 or _y < 0:\n",
    "                    continue\n",
    "                if _x > 20 or _y > 20:\n",
    "                    continue\n",
    "                gain = V[_x, _y] - abs(a) * 2\n",
    "                if gain > best:\n",
    "                    best = gain\n",
    "                    best_a = a\n",
    "            pi[x, y] = best_a\n",
    "            if best_a != b:\n",
    "                policy_stable = False\n",
    "    return policy_stable"
   ]
  },
  {
   "cell_type": "code",
   "execution_count": 227,
   "metadata": {},
   "outputs": [
    {
     "name": "stdout",
     "output_type": "stream",
     "text": [
      "Value\n"
     ]
    },
    {
     "data": {
      "image/png": "[encoded data removed]",
      "text/plain": [
       "<matplotlib.figure.Figure at 0x10bb19c18>"
      ]
     },
     "metadata": {},
     "output_type": "display_data"
    },
    {
     "name": "stdout",
     "output_type": "stream",
     "text": [
      "Policy\n"
     ]
    },
    {
     "data": {
      "image/png": "[encoded data removed]",
      "text/plain": [
       "<matplotlib.figure.Figure at 0x10b7da3c8>"
      ]
     },
     "metadata": {},
     "output_type": "display_data"
    }
   ],
   "source": [
    "V = np.zeros((21, 21))\n",
    "pi = np.zeros((21, 21), dtype = np.int32) # our policy, how many cars to move in each state.\n",
    "\n",
    "request_lambda = [3,4]\n",
    "returns_lambda = [3,2]\n",
    "\n",
    "gamma = 0.9\n",
    "\n",
    "evaluate(250)\n",
    "improve()\n",
    "\n",
    "print(\"Value\")\n",
    "plt.imshow(V.copy(), interpolation='nearest')\n",
    "plt.show()\n",
    "\n",
    "print(\"Policy\")\n",
    "plt.imshow(pi.copy(), interpolation='nearest')\n",
    "plt.show()"
   ]
  },
  {
   "cell_type": "markdown",
   "metadata": {},
   "source": [
    "### By DP"
   ]
  },
  {
   "cell_type": "code",
   "execution_count": 3,
   "metadata": {
    "collapsed": true
   },
   "outputs": [],
   "source": [
    "\"\"\"\n",
    "    Find optimal policy in the \"Jack's Car Rental\" problem \n",
    "    via policy iteration.\n",
    "\"\"\"\n",
    "\n",
    "# V[s] is our estimated value at state s\n",
    "# pi[s] is ... \n",
    "\n",
    "# 1. Initialize state arbitrarily to 0 for all s $\\in$ S\n",
    "\n",
    "poisson_cache = {}\n",
    "exp_cache = {}\n",
    "\n",
    "def poisson(n, lam):\n",
    "    key = (n, lam)\n",
    "    if key in poisson_cache:\n",
    "        return poisson_cache[key] \n",
    "    result = (lam**n)/(math.factorial(n))*math.exp(-lam) if n >= 0 else 0\n",
    "    poisson_cache[key] = result\n",
    "    return result\n",
    "\n",
    "def poisson_gteq(n, lam):\n",
    "    prob = 1\n",
    "    if n <= 0:\n",
    "        return 1\n",
    "    for i in range(n):\n",
    "        prob -= poisson(i, lam)\n",
    "    return prob\n",
    "\n",
    "def expectation(a, b, action, lambda1, lambda2):\n",
    "    \"\"\" returns probability, and expected reward we will go from having a cars to b cars, \n",
    "        given the \"action\" cars are transfered to us, incomming lambda, and outgoing lambda. \"\"\"\n",
    "    \n",
    "    key = (a, b, action, lambda1, lambda2)\n",
    "    \n",
    "    if key in exp_cache:\n",
    "        return exp_cache[key]\n",
    "    \n",
    "\n",
    "    # order is:\n",
    "    # transfer cars\n",
    "    # cars rented out\n",
    "    # cars returned\n",
    "    \n",
    "    prob = 0\n",
    "    reward = 0\n",
    "    # step through possiable number of cars being rented.\n",
    "    for n in range(0, 20):\n",
    "        \n",
    "        # start with initial cars, plus amount transfered\n",
    "        cars = a + action \n",
    "\n",
    "        # cap to 0 cars... we don't get paid for more than that though.\n",
    "        rented = min(n, cars)\n",
    "        \n",
    "        # now rent out n cars\n",
    "        cars -= rented\n",
    "        \n",
    "        # we can hold only 20 cars\n",
    "        cars = min(20, cars)\n",
    "\n",
    "        # if we are aiming for the boundary 20 car limit then we need to consider all delta's greater than or equal to\n",
    "        # this.\n",
    "        capped = (b == 20)\n",
    "                    \n",
    "        # now condition on ending up with b cars\n",
    "        delta = b-cars\n",
    "\n",
    "        if capped:\n",
    "            arrive_prob = poisson_gteq(delta, lambda1)  # probability that delta cars are returned (and thus we end up with b cars)\n",
    "        else:\n",
    "            # probability that delta cars are returned (and thus we end up with b cars)\n",
    "            arrive_prob = poisson(delta, lambda1)  \n",
    "            \n",
    "        rented_prob = poisson(n, lambda2)      # probability that n cars were rented out\n",
    "        \n",
    "        prob += arrive_prob * rented_prob\n",
    "        reward += (rented*10) * arrive_prob * rented_prob\n",
    "    \n",
    "    # condition on event occuring.\n",
    "    reward = reward / prob if prob != 0 else 0\n",
    "    \n",
    "    exp_cache[key] = (prob, reward)\n",
    "        \n",
    "    return prob, reward\n",
    "\n",
    "def nice_print(X, multiplier = 1.0):\n",
    "    for y in range(21):\n",
    "        s = \"\"\n",
    "        for x in range(21):\n",
    "            s += \"{0:.0f}\".format(X[20 - y, x] * multiplier).ljust(4)\n",
    "        print(s)\n",
    "        \n",
    "def small_print(X):\n",
    "    for y in range(11):\n",
    "        s = \"\"\n",
    "        for x in range(11):    \n",
    "            s += \"{0:.0f}\".format(X[20-(y*2), (x*2)]).ljust(4)\n",
    "        print(s)"
   ]
  },
  {
   "cell_type": "code",
   "execution_count": 8,
   "metadata": {
    "collapsed": true
   },
   "outputs": [],
   "source": [
    "# x is the number of cars at lot 1\n",
    "# y is the number of cars at lot 2\n",
    "# V[x,y] is our estimated value at a given state (x,y)\n",
    "# pi[x,y] is our policy\n",
    "\n",
    "def evaluate():\n",
    "    \"\"\" Step 2. Evalulate the policy. \"\"\"\n",
    "    converge = False\n",
    "    \n",
    "    for i in range(100):\n",
    "        old_V = V.copy()    \n",
    "        \n",
    "        for x in range(20+1):\n",
    "            for y in range(20+1):\n",
    "                \n",
    "                # evalulate all new states\n",
    "                V[x,y] = 0\n",
    "                \n",
    "                for destx in range(20+1):\n",
    "                    for desty in range(20+1):\n",
    "\n",
    "                        # the probability of entering into this new state given our current policy.\n",
    "                        action = pi[x,y]\n",
    "                        \n",
    "                        p1, reward1 = expectation(x, destx, -action, request_lambda[0], returns_lambda[0])\n",
    "                        p2, reward2 = expectation(y, desty, action, request_lambda[1], returns_lambda[1])\n",
    "                        \n",
    "                        p = p1*p2\n",
    "                        reward = reward1 + reward2 - abs(action) * 2\n",
    "                                                \n",
    "                        # bellman\n",
    "                        V[x,y] += p * (reward + gamma * old_V[destx, desty])\n",
    "                                        \n",
    "        delta = np.max(np.abs(V - old_V))\n",
    "        if delta < 1e-4: # set to 0.001 for better peformance, just a little slower.\n",
    "            converge = True\n",
    "            return\n",
    "        \n",
    "    print(\"Did not converge! delta = {0}\".format(delta))\n",
    "\n",
    "def improve():\n",
    "    \"\"\" Step 3. Policy Improvement. \"\"\"\n",
    "    # 3. Policy Improvement\n",
    "    policy_stable = True\n",
    "    for x in range(20+1):\n",
    "        for y in range(20+1):\n",
    "            b = pi[x, y]\n",
    "            # pick the best action...\n",
    "            best_a = 0\n",
    "            best = -9999\n",
    "            for a in range(-5, 5+1):\n",
    "                _x = min(20, x-a)\n",
    "                _y = min(20, y+a)\n",
    "                if _x < 0 or _y < 0:\n",
    "                    continue\n",
    "                gain = V[_x, _y] - abs(a) * 2\n",
    "                if gain > best:\n",
    "                    best = gain\n",
    "                    best_a = a\n",
    "            pi[x, y] = best_a\n",
    "            if best_a != b:\n",
    "                policy_stable = False\n",
    "    return policy_stable"
   ]
  },
  {
   "cell_type": "code",
   "execution_count": 10,
   "metadata": {},
   "outputs": [
    {
     "name": "stdout",
     "output_type": "stream",
     "text": [
      "Iteration 1:\n",
      "Did not converge! delta = 0.0014313358913113916\n",
      "Value\n",
      "473 489 495 497 497 497 497 497 497 497 497 \n",
      "473 488 495 496 497 497 497 497 497 497 497 \n",
      "472 488 494 495 496 496 496 496 496 496 496 \n",
      "471 486 492 494 494 494 494 494 494 494 494 \n",
      "468 484 490 492 492 492 492 492 492 492 492 \n",
      "465 480 486 488 488 489 489 489 489 489 489 \n",
      "460 475 481 483 483 483 484 484 484 484 484 \n",
      "452 468 474 476 476 476 476 476 476 476 476 \n",
      "442 457 463 465 465 465 465 465 465 465 465 \n",
      "426 442 448 450 450 450 450 450 450 450 450 \n",
      "407 423 429 430 431 431 431 431 431 431 431 \n"
     ]
    },
    {
     "data": {
      "image/png": "[encoded data removed]",
      "text/plain": [
       "<matplotlib.figure.Figure at 0x15b7668e400>"
      ]
     },
     "metadata": {},
     "output_type": "display_data"
    },
    {
     "name": "stdout",
     "output_type": "stream",
     "text": [
      "Policy\n",
      "3   1   0   0   0   0   0   0   0   0   0   \n",
      "3   1   0   0   0   0   0   0   0   0   0   \n",
      "3   1   0   0   0   0   0   0   0   0   0   \n",
      "3   1   0   0   0   0   0   0   0   0   0   \n",
      "2   1   0   0   0   0   0   0   0   0   0   \n",
      "2   0   0   0   0   0   0   0   0   0   0   \n",
      "2   0   0   -1  -2  -2  -2  -2  -2  -2  -2  \n",
      "1   0   0   -2  -3  -4  -4  -4  -4  -4  -4  \n",
      "0   0   -1  -2  -4  -5  -5  -5  -5  -5  -5  \n",
      "0   0   -2  -3  -4  -5  -5  -5  -5  -5  -5  \n",
      "0   -1  -2  -4  -5  -5  -5  -5  -5  -5  -5  \n"
     ]
    },
    {
     "data": {
      "image/png": "[encoded data removed]",
      "text/plain": [
       "<matplotlib.figure.Figure at 0x15b76927438>"
      ]
     },
     "metadata": {},
     "output_type": "display_data"
    },
    {
     "name": "stdout",
     "output_type": "stream",
     "text": [
      "Iteration 2:\n",
      "Value\n",
      "488 492 496 498 498 498 498 498 498 498 498 \n",
      "487 492 496 497 498 498 498 498 498 498 498 \n",
      "485 491 495 497 497 497 497 497 497 497 497 \n",
      "483 489 494 496 496 496 496 496 496 496 496 \n",
      "480 487 492 494 494 494 494 494 494 494 494 \n",
      "477 484 490 492 492 492 492 492 492 492 492 \n",
      "472 481 487 488 488 488 488 488 488 488 488 \n",
      "463 476 482 483 484 484 484 484 484 484 484 \n",
      "452 468 474 478 479 480 480 480 481 481 481 \n",
      "439 455 464 470 474 476 477 477 477 477 477 \n",
      "420 437 451 460 466 470 472 472 473 473 473 \n"
     ]
    },
    {
     "data": {
      "image/png": "[encoded data removed]",
      "text/plain": [
       "<matplotlib.figure.Figure at 0x15b76a002b0>"
      ]
     },
     "metadata": {},
     "output_type": "display_data"
    },
    {
     "name": "stdout",
     "output_type": "stream",
     "text": [
      "Policy\n",
      "0   0   0   0   0   0   0   0   0   0   0   \n",
      "0   0   0   0   0   0   0   0   0   0   0   \n",
      "0   0   0   0   0   0   0   0   0   0   0   \n",
      "0   0   0   0   0   0   0   0   0   0   0   \n",
      "3   0   0   0   0   0   0   0   0   0   0   \n",
      "0   1   0   0   0   0   0   0   0   0   0   \n",
      "0   0   0   0   0   0   0   0   0   0   0   \n",
      "2   0   0   0   0   0   0   0   0   0   0   \n",
      "1   0   0   0   0   0   0   0   0   0   0   \n",
      "0   0   0   0   0   0   0   0   0   0   0   \n",
      "0   0   0   0   0   0   -1  -1  -1  -1  -1  \n"
     ]
    },
    {
     "data": {
      "image/png": "[encoded data removed]",
      "text/plain": [
       "<matplotlib.figure.Figure at 0x15b769814e0>"
      ]
     },
     "metadata": {},
     "output_type": "display_data"
    },
    {
     "name": "stdout",
     "output_type": "stream",
     "text": [
      "Iteration 3:\n",
      "Value\n",
      "474 489 495 497 497 497 497 497 497 497 497 \n",
      "473 489 495 496 497 497 497 497 497 497 497 \n",
      "472 488 494 496 496 496 496 496 496 496 496 \n",
      "471 486 492 494 494 494 494 494 494 494 494 \n",
      "476 484 490 492 492 492 492 492 492 492 492 \n",
      "465 480 487 488 489 489 489 489 489 489 489 \n",
      "460 476 482 483 484 484 484 484 484 484 484 \n",
      "453 468 475 476 477 477 477 477 477 477 477 \n",
      "442 457 464 466 466 466 466 466 466 466 466 \n",
      "427 442 449 450 451 451 451 451 451 451 451 \n",
      "408 423 430 431 432 432 440 440 440 440 440 \n"
     ]
    },
    {
     "data": {
      "image/png": "[encoded data removed]",
      "text/plain": [
       "<matplotlib.figure.Figure at 0x15b76d76588>"
      ]
     },
     "metadata": {},
     "output_type": "display_data"
    },
    {
     "name": "stdout",
     "output_type": "stream",
     "text": [
      "Policy\n",
      "3   1   0   0   0   0   0   0   0   0   0   \n",
      "3   1   0   0   0   0   0   0   0   0   0   \n",
      "3   1   0   0   0   0   0   0   0   0   0   \n",
      "3   1   0   0   0   0   0   0   0   0   0   \n",
      "0   1   0   0   0   0   0   0   0   0   0   \n",
      "2   0   0   0   0   0   0   0   0   0   0   \n",
      "2   0   0   -1  -1  -2  -2  -2  -2  -2  -2  \n",
      "0   0   0   -2  -3  -3  -4  -4  -4  -4  -4  \n",
      "0   0   -1  -2  -4  -5  -5  -5  -5  -5  -5  \n",
      "0   0   -2  -3  -4  -5  -5  -5  -5  -5  -5  \n",
      "0   -1  -2  -4  -5  -5  -5  -5  -5  -5  -5  \n"
     ]
    },
    {
     "data": {
      "image/png": "[encoded data removed]",
      "text/plain": [
       "<matplotlib.figure.Figure at 0x15b76e669b0>"
      ]
     },
     "metadata": {},
     "output_type": "display_data"
    },
    {
     "name": "stdout",
     "output_type": "stream",
     "text": [
      "Iteration 4:\n",
      "Value\n",
      "488 492 496 498 498 498 498 498 498 498 498 \n",
      "487 492 496 497 498 498 498 498 498 498 498 \n",
      "485 491 495 497 497 497 497 497 497 497 497 \n",
      "483 489 494 496 496 496 496 496 496 496 496 \n",
      "471 487 493 494 494 494 494 494 494 494 494 \n",
      "477 484 490 492 492 492 492 492 492 492 492 \n",
      "472 481 487 488 488 488 488 488 488 488 488 \n",
      "460 476 482 483 484 484 484 484 484 484 484 \n",
      "452 468 475 478 479 480 480 481 481 481 481 \n",
      "439 455 464 471 474 476 477 477 477 477 477 \n",
      "420 437 451 460 467 471 472 473 473 473 473 \n"
     ]
    },
    {
     "data": {
      "image/png": "[encoded data removed]",
      "text/plain": [
       "<matplotlib.figure.Figure at 0x15b76d5b7b8>"
      ]
     },
     "metadata": {},
     "output_type": "display_data"
    },
    {
     "name": "stdout",
     "output_type": "stream",
     "text": [
      "Policy\n",
      "0   0   0   0   0   0   0   0   0   0   0   \n",
      "0   0   0   0   0   0   0   0   0   0   0   \n",
      "0   0   0   0   0   0   0   0   0   0   0   \n",
      "0   0   0   0   0   0   0   0   0   0   0   \n",
      "3   0   0   0   0   0   0   0   0   0   0   \n",
      "0   1   0   0   0   0   0   0   0   0   0   \n",
      "0   0   0   0   0   0   0   0   0   0   0   \n",
      "2   0   0   0   0   0   0   0   0   0   0   \n",
      "1   0   0   0   0   0   0   0   0   0   0   \n",
      "0   0   0   0   0   0   0   0   0   0   0   \n",
      "0   0   0   0   0   0   -1  -1  -1  -1  -1  \n"
     ]
    },
    {
     "data": {
      "image/png": "[encoded data removed]",
      "text/plain": [
       "<matplotlib.figure.Figure at 0x15b76f27668>"
      ]
     },
     "metadata": {},
     "output_type": "display_data"
    },
    {
     "name": "stdout",
     "output_type": "stream",
     "text": [
      "Iteration 5:\n",
      "Value\n",
      "474 489 495 497 497 497 497 497 497 497 497 \n",
      "473 489 495 496 497 497 497 497 497 497 497 \n",
      "472 488 494 496 496 496 496 496 496 496 496 \n",
      "471 486 492 494 494 494 494 494 494 494 494 \n",
      "476 484 490 492 492 492 492 492 492 492 492 \n",
      "465 480 487 488 489 489 489 489 489 489 489 \n",
      "460 476 482 483 484 484 484 484 484 484 484 \n",
      "453 468 475 476 477 477 477 477 477 477 477 \n",
      "442 457 464 466 466 466 466 466 466 466 466 \n",
      "427 442 449 450 451 451 451 451 451 451 451 \n",
      "408 423 430 431 432 432 440 440 440 440 440 \n"
     ]
    },
    {
     "data": {
      "image/png": "[encoded data removed]",
      "text/plain": [
       "<matplotlib.figure.Figure at 0x15b77005f28>"
      ]
     },
     "metadata": {},
     "output_type": "display_data"
    },
    {
     "name": "stdout",
     "output_type": "stream",
     "text": [
      "Policy\n",
      "3   1   0   0   0   0   0   0   0   0   0   \n",
      "3   1   0   0   0   0   0   0   0   0   0   \n",
      "3   1   0   0   0   0   0   0   0   0   0   \n",
      "3   1   0   0   0   0   0   0   0   0   0   \n",
      "0   1   0   0   0   0   0   0   0   0   0   \n",
      "2   0   0   0   0   0   0   0   0   0   0   \n",
      "2   0   0   -1  -1  -2  -2  -2  -2  -2  -2  \n",
      "0   0   0   -2  -3  -3  -4  -4  -4  -4  -4  \n",
      "0   0   -1  -2  -4  -5  -5  -5  -5  -5  -5  \n",
      "0   0   -2  -3  -4  -5  -5  -5  -5  -5  -5  \n",
      "0   -1  -2  -4  -5  -5  -5  -5  -5  -5  -5  \n"
     ]
    },
    {
     "data": {
      "image/png": "[encoded data removed]",
      "text/plain": [
       "<matplotlib.figure.Figure at 0x15b770aeb00>"
      ]
     },
     "metadata": {},
     "output_type": "display_data"
    }
   ],
   "source": [
    "\"\"\"\n",
    "The day goes like this.\n",
    "\n",
    "we start in state (x,y) where x is the number of cars in lot1, and y is the number of cars in lot2.\n",
    "\n",
    "Some number of cars are hired (we can only hire up to as many cars are avaliable)\n",
    "Some number of cars are returned (these can not be used, but will effect our new state)\n",
    "We move some number of cars between the lots, at a cost of $2 per car.\n",
    "\n",
    "If there are ever more than 20 cars at a lot, these cars vanish.\n",
    "We can move a maximum of 5 cars between lots per day.\n",
    "\n",
    "\"\"\"\n",
    "\n",
    "V = np.zeros((21, 21))\n",
    "pi = np.zeros((21, 21), dtype = np.int32) # our policy, how many cars to move in each state.\n",
    "\n",
    "request_lambda = [3,4]\n",
    "returns_lambda = [3,2]\n",
    "\n",
    "gamma = 0.9\n",
    "    \n",
    "for i in range(5):\n",
    "    print(\"Iteration {0}:\".format(i+1))\n",
    "    evaluate()\n",
    "    stable = improve()   \n",
    "    \n",
    "    print(\"Value\")\n",
    "    small_print(V)\n",
    "    plt.imshow(V.copy(), interpolation='nearest')\n",
    "    plt.show()\n",
    "\n",
    "    print(\"Policy\")\n",
    "    small_print(pi)\n",
    "    plt.imshow(pi.copy(), interpolation='nearest')\n",
    "    plt.show()\n",
    "    \n",
    "    if stable:\n",
    "        print(\"Solution stable.\")\n",
    "        break"
   ]
  },
  {
   "cell_type": "markdown",
   "metadata": {
    "collapsed": true
   },
   "source": [
    "# Gamblers Problem\n",
    "\n",
    "Every turn we decide how much money to bet.\n",
    "We then have p chance of doubling the money, and 1-p of loosing it.\n",
    "The goal is to get to `$`100, and we can only bet integer amounts.\n",
    "\n",
    "State are our current capital `[`1..99]\n",
    "\n",
    "Action, state pairs are how much we bet given current captial.\n",
    "\n",
    "Reward is 1 if we win (get `$`100), and 0 if we loose (reduce to `$`0)"
   ]
  },
  {
   "cell_type": "code",
   "execution_count": 137,
   "metadata": {
    "collapsed": true
   },
   "outputs": [],
   "source": [
    "def evaluate():    \n",
    "    for i in range(1000):\n",
    "        old_V = V.copy()\n",
    "        # go through each state and update our value estimate\n",
    "        for s in range(1,99+1):\n",
    "            bet = pi[s]\n",
    "            win = p * old_V[s + bet]\n",
    "            loose = (1-p) * old_V[s - bet]\n",
    "            V[s] = win + loose\n",
    "        delta = np.max(np.abs(old_V - V))\n",
    "        if delta < 1e-8:\n",
    "            return\n",
    "    print(\"[warning] did not converge, delta = {0}\".format(delta))\n",
    "    \n",
    "\n",
    "def improve():\n",
    "    old_pi = pi.copy()\n",
    "    for s in range(1,99+1):\n",
    "        # just pick the best option avaliable\n",
    "        best_value = -999\n",
    "        best_bet = 0\n",
    "        for bet in range(1,s+1):\n",
    "            if bet + s > 100:\n",
    "                continue\n",
    "            value = p * V[s+bet] + (1-p) * V[s-bet]\n",
    "            # we need to beat the best value by a small margin, if we don't do this\n",
    "            # we get small imperfections in the final solution (probably due to rounding errors)\n",
    "            if value > best_value+1e-6:\n",
    "                best_value = value\n",
    "                best_bet = bet\n",
    "                \n",
    "        pi[s] = best_bet\n",
    "    return (np.max(np.abs(old_pi-pi)) == 0)\n"
   ]
  },
  {
   "cell_type": "code",
   "execution_count": 100,
   "metadata": {
    "collapsed": true
   },
   "outputs": [],
   "source": [
    "def plot_pi(pi):\n",
    "    plt.plot(range(0,101),pi)\n",
    "    \n",
    "def plot_value(V):\n",
    "    plt.plot(range(0,101),[x*100 for x in V])\n"
   ]
  },
  {
   "cell_type": "code",
   "execution_count": 152,
   "metadata": {},
   "outputs": [
    {
     "ename": "IndexError",
     "evalue": "too many indices for array",
     "output_type": "error",
     "traceback": [
      "\u001b[0;31m---------------------------------------------------------------------------\u001b[0m",
      "\u001b[0;31mIndexError\u001b[0m                                Traceback (most recent call last)",
      "\u001b[0;32m<ipython-input-152-3cb1e2f5ca12>\u001b[0m in \u001b[0;36m<module>\u001b[0;34m()\u001b[0m\n\u001b[1;32m      9\u001b[0m \u001b[0;34m\u001b[0m\u001b[0m\n\u001b[1;32m     10\u001b[0m \u001b[0;32mfor\u001b[0m \u001b[0mi\u001b[0m \u001b[0;32min\u001b[0m \u001b[0mrange\u001b[0m\u001b[0;34m(\u001b[0m\u001b[0;36m1000\u001b[0m\u001b[0;34m)\u001b[0m\u001b[0;34m:\u001b[0m\u001b[0;34m\u001b[0m\u001b[0m\n\u001b[0;32m---> 11\u001b[0;31m     \u001b[0mevaluate\u001b[0m\u001b[0;34m(\u001b[0m\u001b[0;34m)\u001b[0m\u001b[0;34m\u001b[0m\u001b[0m\n\u001b[0m\u001b[1;32m     12\u001b[0m     \u001b[0mstable\u001b[0m \u001b[0;34m=\u001b[0m \u001b[0mimprove\u001b[0m\u001b[0;34m(\u001b[0m\u001b[0;34m)\u001b[0m\u001b[0;34m\u001b[0m\u001b[0m\n\u001b[1;32m     13\u001b[0m \u001b[0;34m\u001b[0m\u001b[0m\n",
      "\u001b[0;32m<ipython-input-150-4234278b8e3c>\u001b[0m in \u001b[0;36mevaluate\u001b[0;34m()\u001b[0m\n\u001b[1;32m     16\u001b[0m \u001b[0;34m\u001b[0m\u001b[0m\n\u001b[1;32m     17\u001b[0m                 \u001b[0;31m# evalulate all new states\u001b[0m\u001b[0;34m\u001b[0m\u001b[0;34m\u001b[0m\u001b[0m\n\u001b[0;32m---> 18\u001b[0;31m                 \u001b[0mV\u001b[0m\u001b[0;34m[\u001b[0m\u001b[0mx\u001b[0m\u001b[0;34m,\u001b[0m\u001b[0my\u001b[0m\u001b[0;34m]\u001b[0m \u001b[0;34m=\u001b[0m \u001b[0;36m0\u001b[0m\u001b[0;34m\u001b[0m\u001b[0m\n\u001b[0m\u001b[1;32m     19\u001b[0m \u001b[0;34m\u001b[0m\u001b[0m\n\u001b[1;32m     20\u001b[0m                 \u001b[0;32mfor\u001b[0m \u001b[0mdestx\u001b[0m \u001b[0;32min\u001b[0m \u001b[0mrange\u001b[0m\u001b[0;34m(\u001b[0m\u001b[0;36m20\u001b[0m\u001b[0;34m+\u001b[0m\u001b[0;36m1\u001b[0m\u001b[0;34m)\u001b[0m\u001b[0;34m:\u001b[0m\u001b[0;34m\u001b[0m\u001b[0m\n",
      "\u001b[0;31mIndexError\u001b[0m: too many indices for array"
     ]
    }
   ],
   "source": [
    "# in this case we have 100 states \n",
    "V = np.zeros((101), dtype = np.float64)\n",
    "V[100] = 1.0\n",
    "\n",
    "# policy is how much to gamble at a given state.\n",
    "pi = np.zeros((101), dtype = np.int32)\n",
    "\n",
    "p = 0.55\n",
    "\n",
    "for i in range(1000):\n",
    "    evaluate()\n",
    "    stable = improve()   \n",
    "  \n",
    "    if i < 3:\n",
    "        print(\"Iteration {0}:\".format(i+1))\n",
    "        plot_pi(pi)\n",
    "        plot_value(V)\n",
    "        plt.show()\n",
    "    \n",
    "    if stable:\n",
    "        print(\"Solution stable after {0} iterations.\".format(i))\n",
    "        break\n",
    "\n",
    "print(\"Final solution:\")\n",
    "\n",
    "plot_pi(pi)\n",
    "plot_value(V)\n",
    "plt.show()\n",
    "\n",
    "print(pi)\n",
    "        "
   ]
  },
  {
   "cell_type": "markdown",
   "metadata": {},
   "source": [
    "Solutions for p < 0.5 are all equiv, however low values of p (<0.1) are dificualt to verify.\n",
    "\n",
    "For p >= 0.5 we win in general, and so betting $1 is optimal.\n"
   ]
  }
 ],
 "metadata": {
  "kernelspec": {
   "display_name": "Python 3",
   "language": "python",
   "name": "python3"
  },
  "language_info": {
   "codemirror_mode": {
    "name": "ipython",
    "version": 3
   },
   "file_extension": ".py",
   "mimetype": "text/x-python",
   "name": "python",
   "nbconvert_exporter": "python",
   "pygments_lexer": "ipython3",
   "version": "3.6.1"
  }
 },
 "nbformat": 4,
 "nbformat_minor": 2
}
